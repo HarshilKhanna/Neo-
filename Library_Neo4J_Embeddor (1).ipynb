{
  "nbformat": 4,
  "nbformat_minor": 0,
  "metadata": {
    "colab": {
      "provenance": [],
      "gpuType": "T4"
    },
    "kernelspec": {
      "name": "python3",
      "display_name": "Python 3"
    },
    "language_info": {
      "name": "python"
    },
    "accelerator": "GPU"
  },
  "cells": [
    {
      "cell_type": "code",
      "source": [
        "%%capture\n",
        "%pip install fsspec langchain-text-splitters tiktoken openai python-dotenv numpy torch neo4j-graphrag rapidfuzz"
      ],
      "metadata": {
        "id": "eE-vm5J8I7Bo"
      },
      "execution_count": 1,
      "outputs": []
    },
    {
      "cell_type": "code",
      "source": [
        "import neo4j\n",
        "from neo4j_graphrag.llm import AzureOpenAILLM\n",
        "from neo4j_graphrag.embeddings.openai import AzureOpenAIEmbeddings"
      ],
      "metadata": {
        "id": "79EO7fUTMfkO"
      },
      "execution_count": 2,
      "outputs": []
    },
    {
      "cell_type": "markdown",
      "source": [],
      "metadata": {
        "id": "ccGfPFmXl9zv"
      }
    },
    {
      "cell_type": "code",
      "source": [
        "NEO4J_URI ='neo4j+s://fa1301ff.databases.neo4j.io'\n",
        "NEO4J_USERNAME ='neo4j'\n",
        "NEO4J_PASSWORD ='NvyYPIjVRW6Y_gz4F72qCxqkYyFXVfiRk88mUwd7ZG8'"
      ],
      "metadata": {
        "id": "Vuc3cZi_ZVm7"
      },
      "execution_count": 11,
      "outputs": []
    },
    {
      "cell_type": "code",
      "source": [
        "llm = AzureOpenAILLM(\n",
        "    model_name=\"gpt-4.1\",\n",
        "    azure_endpoint=\"https://ishaan.openai.azure.com/\",  # update with your endpoint\n",
        "    api_version=\"2024-12-01-preview\",  # update appropriate version\n",
        "    api_key=\"2S4V3MfGWVFcJcJXk2eibRIOnBsru6tiIukQ587Jcne0KoGKLhgXJQQJ99BDACHYHv6XJ3w3AAABACOGPoUA\",  # api_key is optional and can also be set with OPENAI_API_KEY env var\n",
        ")\n",
        "llm.invoke(\"say something\")"
      ],
      "metadata": {
        "colab": {
          "base_uri": "https://localhost:8080/"
        },
        "id": "9eicNg6bLLzA",
        "outputId": "ca35c1b1-22da-486a-e899-1b8b46a6fbc8"
      },
      "execution_count": 4,
      "outputs": [
        {
          "output_type": "execute_result",
          "data": {
            "text/plain": [
              "LLMResponse(content=\"Hello! 👋 I'm here and ready to help. What would you like to talk about today?\")"
            ]
          },
          "metadata": {},
          "execution_count": 4
        }
      ]
    },
    {
      "cell_type": "code",
      "source": [
        "embedder = AzureOpenAIEmbeddings(\n",
        "    azure_endpoint=\"https://text-embedding-ada-002-ishaan.openai.azure.com\",\n",
        "    model=\"text-embedding-ada-002\",\n",
        "    api_key=\"7cTg7lr8xuwHaUFxjXU8XLwtHyk8lg7RT0pc6fTRCWCCrb3M0rBLJQQJ99BDACYeBjFXJ3w3AAABACOGVIat\",\n",
        "    api_version=\"2023-05-15\"\n",
        ")"
      ],
      "metadata": {
        "id": "mvP9yRDSiZ4c"
      },
      "execution_count": 5,
      "outputs": []
    },
    {
      "cell_type": "code",
      "source": [
        "driver = neo4j.GraphDatabase.driver(NEO4J_URI, auth=(NEO4J_USERNAME, NEO4J_PASSWORD))"
      ],
      "metadata": {
        "id": "swUaheb8ZUST"
      },
      "execution_count": 6,
      "outputs": []
    },
    {
      "cell_type": "markdown",
      "source": [
        "driver = neo4j.GraphDatabase.driver(NEO4J_URI, auth=(NEO4J_USERNAME, NEO4J_PASSWORD))"
      ],
      "metadata": {
        "id": "VlUYSpVs3567"
      }
    },
    {
      "cell_type": "code",
      "source": [
        "prompt_template = '''\n",
        "You are a contract risk analyst tasked with extracting information from contracts\n",
        "and structuring it into a property graph to enable risk identification, deviation analysis, and actionable mitigation planning.\n",
        "\n",
        "Extract the entities (nodes) and specify their type from the following Input text.\n",
        "Also extract the relationships between these nodes. The relationship direction goes from the start node to the end node.\n",
        "\n",
        "Return the result as JSON using the following format:\n",
        "{{\"nodes\": [{{\"id\": \"0\", \"label\": \"the type of entity\", \"properties\": {{\"name\": \"name of entity\"}}}}],\n",
        "  \"relationships\": [{{\"type\": \"TYPE_OF_RELATIONSHIP\", \"start_node_id\": \"0\", \"end_node_id\": \"1\", \"properties\": {{\"details\": \"Description of the relationship\"}}}}]}}\n",
        "\n",
        "- Use only the information provided in the Input text. Do not add any external knowledge or assumptions.\n",
        "- If the input text is empty, return an empty JSON.\n",
        "- Create as many nodes and relationships as necessary to offer rich context for risk and compliance analysis.\n",
        "- An AI knowledge assistant must be able to read this graph and immediately understand contract risks, deviations from policies, and required mitigations.\n",
        "- Multiple contracts will be ingested from various sources, and this property graph will be used to connect information across them, so entity types must remain fairly general but accurate.\n",
        "\n",
        "Use only the following nodes and relationships (if provided):\n",
        "{schema}\n",
        "\n",
        "Assign a unique ID (string) to each node, and reuse it appropriately when defining relationships.\n",
        "Respect the valid source and target node types for each relationship.\n",
        "The direction of the relationship must follow what is logically correct based on the schema.\n",
        "\n",
        "Do not return any explanations or additional information beyond the specified JSON.\n",
        "\n",
        "Examples:\n",
        "{examples}\n",
        "\n",
        "Input text:\n",
        "\n",
        "{text}\n",
        "'''\n"
      ],
      "metadata": {
        "id": "xB-pQ3jEXZl1"
      },
      "execution_count": 7,
      "outputs": []
    },
    {
      "cell_type": "code",
      "source": [
        "rel_types = [\n",
        "    \"CONTAINS_CLAUSE\",          # (Contract)-[:CONTAINS_CLAUSE]->(Clause)\n",
        "    \"WRITTEN_BY\",               # (Clause)-[:WRITTEN_BY]->(Party)\n",
        "    \"HAS_PARTY\",                # (Contract)-[:HAS_PARTY]->(Party)\n",
        "    \"BELONGS_TO_SECTION\",       # (Clause)-[:BELONGS_TO_SECTION]->(Section)\n",
        "    \"MATCHES_RULE\",             # (Clause)-[:MATCHES_RULE]->(PlaybookRule)\n",
        "    \"VIOLATES_RULE\",            # (Clause)-[:VIOLATES_RULE]->(PlaybookRule)\n",
        "    \"HAS_RISK\",                 # (Clause)-[:HAS_RISK]->(Risk)\n",
        "    \"HAS_LIABILITY\",            # (Clause)-[:HAS_LIABILITY]->(Liability)\n",
        "    \"ASSESSED_BY\",              # (Clause)-[:ASSESSED_BY]->(Agent)\n",
        "    \"REQUIRES_AMENDMENT\",       # (Clause)-[:REQUIRES_AMENDMENT]->(Amendment)\n",
        "    \"UNDER_JURISDICTION\",       # (Contract)-[:UNDER_JURISDICTION]->(Jurisdiction)\n",
        "    \"HAS_COMPLIANCE_STATUS\",    # (Clause)-[:HAS_COMPLIANCE_STATUS]->(ComplianceStatus)\n",
        "    \"HAS_KEYWORD\",              # (Clause)-[:HAS_KEYWORD]->(Keyword)\n",
        "    \"ANNOTATED_BY\",             # (Clause)-[:ANNOTATED_BY]->(Annotation)\n",
        "    \"SUBMITTED_BY\",             # (Contract)-[:SUBMITTED_BY]->(User)\n",
        "    \"UPDATED_TO\",               # (DocumentVersion)-[:UPDATED_TO]->(DocumentVersion)\n",
        "    \"VERSION_OF\",               # (DocumentVersion)-[:VERSION_OF]->(Contract or PlaybookRule)\n",
        "]\n",
        "node_labels = [\n",
        "    \"Contract\",             # Represents an uploaded legal contract\n",
        "    \"Clause\",               # Individual clauses extracted from contracts\n",
        "    \"Party\",                # Vendors / Clients / Counterparties in a contract\n",
        "    \"PlaybookRule\",         # Benchmark or standard rules from the playbook\n",
        "    \"Risk\",                 # Identified contractual risks\n",
        "    \"Liability\",            # Specific liabilities mentioned or inferred\n",
        "    \"ComplianceStatus\",     # Node to represent if clause is compliant or not\n",
        "    \"Jurisdiction\",         # Region/law domain the contract is subject to\n",
        "    \"Amendment\",            # Contract changes or suggestions\n",
        "    \"Section\",              # Logical sections grouping multiple clauses\n",
        "    \"Keyword\",              # Important legal or domain-specific keywords\n",
        "    \"Annotation\",           # Comments or flags added by agents/humans\n",
        "    \"Agent\",                # GenAI or human agent name that processed it\n",
        "    \"User\",                 # Person uploading/using the platform\n",
        "    \"DocumentVersion\",      # For version control of contracts/playbooks\n",
        "]\n"
      ],
      "metadata": {
        "id": "yw92-8cslzDh"
      },
      "execution_count": 9,
      "outputs": []
    },
    {
      "cell_type": "code",
      "source": [
        "from neo4j_graphrag.experimental.components.text_splitters.fixed_size_splitter import FixedSizeSplitter\n",
        "from neo4j_graphrag.experimental.pipeline.kg_builder import SimpleKGPipeline\n",
        "\n",
        "kg_builder_pdf = SimpleKGPipeline(\n",
        "   llm=llm,\n",
        "   driver=driver,\n",
        "   text_splitter=FixedSizeSplitter(chunk_size=1000, chunk_overlap=200),\n",
        "   embedder=embedder,\n",
        "   entities=node_labels,\n",
        "   relations=rel_types,\n",
        "   prompt_template=prompt_template,\n",
        "   from_pdf=True\n",
        ")"
      ],
      "metadata": {
        "id": "J6FfPDNCPB7f"
      },
      "execution_count": 10,
      "outputs": []
    },
    {
      "cell_type": "code",
      "source": [
        "pdf_file_paths = ['/content/Complete List of Elective Courses - Gurugram Off-Campus.pdf']\n",
        "\n",
        "for path in pdf_file_paths:\n",
        "    print(f\"Processing : {path}\")\n",
        "    pdf_result = await kg_builder_pdf.run_async(file_path=path)\n",
        "    print(f\"Result: {pdf_result}\")"
      ],
      "metadata": {
        "id": "JR7TMbRQah5i",
        "colab": {
          "base_uri": "https://localhost:8080/"
        },
        "outputId": "814f0598-b054-445a-cc39-4cc63875b488"
      },
      "execution_count": 12,
      "outputs": [
        {
          "output_type": "stream",
          "name": "stdout",
          "text": [
            "Processing : /content/Complete List of Elective Courses - Gurugram Off-Campus.pdf\n",
            "Result: run_id='ca4ed514-a02c-4551-bf3b-d6dd1d809395' result={'resolver': {'number_of_nodes_to_resolve': 997, 'number_of_created_nodes': 854}}\n"
          ]
        }
      ]
    },
    {
      "cell_type": "markdown",
      "source": [
        "#Retrival"
      ],
      "metadata": {
        "id": "nQYQq6pFCA0r"
      }
    },
    {
      "cell_type": "code",
      "source": [
        "from neo4j_graphrag.indexes import create_vector_index\n",
        "\n",
        "create_vector_index(driver, name=\"text_embeddings\", label=\"Chunk\",\n",
        "                   embedding_property=\"embedding\", dimensions=1536, similarity_fn=\"cosine\")"
      ],
      "metadata": {
        "id": "cEeqZg7XkKvG"
      },
      "execution_count": 13,
      "outputs": []
    },
    {
      "cell_type": "code",
      "source": [
        "from neo4j_graphrag.retrievers import VectorRetriever\n",
        "\n",
        "vector_retriever = VectorRetriever(\n",
        "   driver,\n",
        "   index_name=\"text_embeddings\",\n",
        "   embedder=embedder,\n",
        "   return_properties=[\"text\"],\n",
        ")"
      ],
      "metadata": {
        "id": "z5DEdj7YkVUP",
        "colab": {
          "base_uri": "https://localhost:8080/",
          "height": 477
        },
        "outputId": "c7b1cff1-dfdd-4833-f98e-2c1c88bbd4db"
      },
      "execution_count": 14,
      "outputs": [
        {
          "output_type": "error",
          "ename": "Exception",
          "evalue": "No index with name text_embeddings found",
          "traceback": [
            "\u001b[0;31m---------------------------------------------------------------------------\u001b[0m",
            "\u001b[0;31mIndexError\u001b[0m                                Traceback (most recent call last)",
            "\u001b[0;32m/usr/local/lib/python3.11/dist-packages/neo4j_graphrag/retrievers/base.py\u001b[0m in \u001b[0;36m_fetch_index_infos\u001b[0;34m(self, vector_index_name)\u001b[0m\n\u001b[1;32m    123\u001b[0m         \u001b[0;32mtry\u001b[0m\u001b[0;34m:\u001b[0m\u001b[0;34m\u001b[0m\u001b[0;34m\u001b[0m\u001b[0m\n\u001b[0;32m--> 124\u001b[0;31m             \u001b[0mresult\u001b[0m \u001b[0;34m=\u001b[0m \u001b[0mquery_result\u001b[0m\u001b[0;34m.\u001b[0m\u001b[0mrecords\u001b[0m\u001b[0;34m[\u001b[0m\u001b[0;36m0\u001b[0m\u001b[0;34m]\u001b[0m\u001b[0;34m\u001b[0m\u001b[0;34m\u001b[0m\u001b[0m\n\u001b[0m\u001b[1;32m    125\u001b[0m             \u001b[0mself\u001b[0m\u001b[0;34m.\u001b[0m\u001b[0m_node_label\u001b[0m \u001b[0;34m=\u001b[0m \u001b[0mresult\u001b[0m\u001b[0;34m[\u001b[0m\u001b[0;34m\"labels\"\u001b[0m\u001b[0;34m]\u001b[0m\u001b[0;34m[\u001b[0m\u001b[0;36m0\u001b[0m\u001b[0;34m]\u001b[0m\u001b[0;34m\u001b[0m\u001b[0;34m\u001b[0m\u001b[0m\n",
            "\u001b[0;31mIndexError\u001b[0m: list index out of range",
            "\nThe above exception was the direct cause of the following exception:\n",
            "\u001b[0;31mException\u001b[0m                                 Traceback (most recent call last)",
            "\u001b[0;32m<ipython-input-14-a3d78f643242>\u001b[0m in \u001b[0;36m<cell line: 0>\u001b[0;34m()\u001b[0m\n\u001b[1;32m      1\u001b[0m \u001b[0;32mfrom\u001b[0m \u001b[0mneo4j_graphrag\u001b[0m\u001b[0;34m.\u001b[0m\u001b[0mretrievers\u001b[0m \u001b[0;32mimport\u001b[0m \u001b[0mVectorRetriever\u001b[0m\u001b[0;34m\u001b[0m\u001b[0;34m\u001b[0m\u001b[0m\n\u001b[1;32m      2\u001b[0m \u001b[0;34m\u001b[0m\u001b[0m\n\u001b[0;32m----> 3\u001b[0;31m vector_retriever = VectorRetriever(\n\u001b[0m\u001b[1;32m      4\u001b[0m    \u001b[0mdriver\u001b[0m\u001b[0;34m,\u001b[0m\u001b[0;34m\u001b[0m\u001b[0;34m\u001b[0m\u001b[0m\n\u001b[1;32m      5\u001b[0m    \u001b[0mindex_name\u001b[0m\u001b[0;34m=\u001b[0m\u001b[0;34m\"text_embeddings\"\u001b[0m\u001b[0;34m,\u001b[0m\u001b[0;34m\u001b[0m\u001b[0;34m\u001b[0m\u001b[0m\n",
            "\u001b[0;32m/usr/local/lib/python3.11/dist-packages/neo4j_graphrag/retrievers/vector.py\u001b[0m in \u001b[0;36m__init__\u001b[0;34m(self, driver, index_name, embedder, return_properties, result_formatter, neo4j_database)\u001b[0m\n\u001b[1;32m    125\u001b[0m         \u001b[0mself\u001b[0m\u001b[0;34m.\u001b[0m\u001b[0m_embedding_node_property\u001b[0m \u001b[0;34m=\u001b[0m \u001b[0;32mNone\u001b[0m\u001b[0;34m\u001b[0m\u001b[0;34m\u001b[0m\u001b[0m\n\u001b[1;32m    126\u001b[0m         \u001b[0mself\u001b[0m\u001b[0;34m.\u001b[0m\u001b[0m_embedding_dimension\u001b[0m \u001b[0;34m=\u001b[0m \u001b[0;32mNone\u001b[0m\u001b[0;34m\u001b[0m\u001b[0;34m\u001b[0m\u001b[0m\n\u001b[0;32m--> 127\u001b[0;31m         \u001b[0mself\u001b[0m\u001b[0;34m.\u001b[0m\u001b[0m_fetch_index_infos\u001b[0m\u001b[0;34m(\u001b[0m\u001b[0mself\u001b[0m\u001b[0;34m.\u001b[0m\u001b[0mindex_name\u001b[0m\u001b[0;34m)\u001b[0m\u001b[0;34m\u001b[0m\u001b[0;34m\u001b[0m\u001b[0m\n\u001b[0m\u001b[1;32m    128\u001b[0m \u001b[0;34m\u001b[0m\u001b[0m\n\u001b[1;32m    129\u001b[0m     \u001b[0;32mdef\u001b[0m \u001b[0mdefault_record_formatter\u001b[0m\u001b[0;34m(\u001b[0m\u001b[0mself\u001b[0m\u001b[0;34m,\u001b[0m \u001b[0mrecord\u001b[0m\u001b[0;34m:\u001b[0m \u001b[0mneo4j\u001b[0m\u001b[0;34m.\u001b[0m\u001b[0mRecord\u001b[0m\u001b[0;34m)\u001b[0m \u001b[0;34m->\u001b[0m \u001b[0mRetrieverResultItem\u001b[0m\u001b[0;34m:\u001b[0m\u001b[0;34m\u001b[0m\u001b[0;34m\u001b[0m\u001b[0m\n",
            "\u001b[0;32m/usr/local/lib/python3.11/dist-packages/neo4j_graphrag/retrievers/base.py\u001b[0m in \u001b[0;36m_fetch_index_infos\u001b[0;34m(self, vector_index_name)\u001b[0m\n\u001b[1;32m    127\u001b[0m             \u001b[0mself\u001b[0m\u001b[0;34m.\u001b[0m\u001b[0m_embedding_dimension\u001b[0m \u001b[0;34m=\u001b[0m \u001b[0mresult\u001b[0m\u001b[0;34m[\u001b[0m\u001b[0;34m\"dimensions\"\u001b[0m\u001b[0;34m]\u001b[0m\u001b[0;34m\u001b[0m\u001b[0;34m\u001b[0m\u001b[0m\n\u001b[1;32m    128\u001b[0m         \u001b[0;32mexcept\u001b[0m \u001b[0mIndexError\u001b[0m \u001b[0;32mas\u001b[0m \u001b[0me\u001b[0m\u001b[0;34m:\u001b[0m\u001b[0;34m\u001b[0m\u001b[0;34m\u001b[0m\u001b[0m\n\u001b[0;32m--> 129\u001b[0;31m             \u001b[0;32mraise\u001b[0m \u001b[0mException\u001b[0m\u001b[0;34m(\u001b[0m\u001b[0;34mf\"No index with name {self.index_name} found\"\u001b[0m\u001b[0;34m)\u001b[0m \u001b[0;32mfrom\u001b[0m \u001b[0me\u001b[0m\u001b[0;34m\u001b[0m\u001b[0;34m\u001b[0m\u001b[0m\n\u001b[0m\u001b[1;32m    130\u001b[0m \u001b[0;34m\u001b[0m\u001b[0m\n\u001b[1;32m    131\u001b[0m     \u001b[0;32mdef\u001b[0m \u001b[0msearch\u001b[0m\u001b[0;34m(\u001b[0m\u001b[0mself\u001b[0m\u001b[0;34m,\u001b[0m \u001b[0;34m*\u001b[0m\u001b[0margs\u001b[0m\u001b[0;34m:\u001b[0m \u001b[0mAny\u001b[0m\u001b[0;34m,\u001b[0m \u001b[0;34m**\u001b[0m\u001b[0mkwargs\u001b[0m\u001b[0;34m:\u001b[0m \u001b[0mAny\u001b[0m\u001b[0;34m)\u001b[0m \u001b[0;34m->\u001b[0m \u001b[0mRetrieverResult\u001b[0m\u001b[0;34m:\u001b[0m\u001b[0;34m\u001b[0m\u001b[0;34m\u001b[0m\u001b[0m\n",
            "\u001b[0;31mException\u001b[0m: No index with name text_embeddings found"
          ]
        }
      ]
    },
    {
      "cell_type": "markdown",
      "source": [
        "#when only used Vector Retriever Process"
      ],
      "metadata": {
        "id": "JpqdVqwTkzL0"
      }
    },
    {
      "cell_type": "code",
      "source": [
        "import json\n",
        "\n",
        "vector_res = vector_retriever.get_search_results(query_text = \"what is risk?\",\n",
        "             top_k=3)\n",
        "for i in vector_res.records: print(\"====n\" + json.dumps(i.data(), indent=4))"
      ],
      "metadata": {
        "id": "YSB444fJkfrH"
      },
      "execution_count": null,
      "outputs": []
    },
    {
      "cell_type": "code",
      "source": [
        "from neo4j_graphrag.retrievers import VectorCypherRetriever\n",
        "\n",
        "vc_retriever = VectorCypherRetriever(\n",
        "   driver,\n",
        "   index_name=\"text_embeddings\",\n",
        "   embedder=embedder,\n",
        "   retrieval_query=\"\"\"\n",
        "//1) Go out 2-3 hops in the entity graph and get relationships\n",
        "WITH node AS chunk\n",
        "MATCH (chunk)<-[:FROM_CHUNK]-()-[relList:!FROM_CHUNK]-{1,2}()\n",
        "UNWIND relList AS rel\n",
        "\n",
        "//2) collect relationships and text chunks\n",
        "WITH collect(DISTINCT chunk) AS chunks,\n",
        " collect(DISTINCT rel) AS rels\n",
        "\n",
        "//3) format and return context\n",
        "RETURN '=== text ===n' + apoc.text.join([c in chunks | c.text], 'n---n') + 'nn=== kg_rels ===n' +\n",
        " apoc.text.join([r in rels | startNode(r).name + ' - ' + type(r) + '(' + coalesce(r.details, '') + ')' +  ' -> ' + endNode(r).name ], 'n---n') AS info\n",
        "\"\"\"\n",
        ")"
      ],
      "metadata": {
        "id": "PRtR0-ExkuX1"
      },
      "execution_count": null,
      "outputs": []
    },
    {
      "cell_type": "code",
      "source": [
        "vc_res = vc_retriever.get_search_results(query_text = \"what is risk?\", top_k=3)\n",
        "\n",
        "# print output\n",
        "kg_rel_pos = vc_res.records[0]['info'].find('nn=== kg_rels ===n')\n",
        "print(\"# Text Chunk Context:\")\n",
        "print(vc_res.records[0]['info'][:kg_rel_pos])\n",
        "print(\"# KG Context From Relationships:\")\n",
        "print(vc_res.records[0]['info'][kg_rel_pos:])\n"
      ],
      "metadata": {
        "id": "FYMnVPiXlIKW"
      },
      "execution_count": null,
      "outputs": []
    },
    {
      "cell_type": "code",
      "source": [
        "from neo4j_graphrag.llm import OpenAILLM as LLM\n",
        "from neo4j_graphrag.generation import RagTemplate\n",
        "from neo4j_graphrag.generation.graphrag import GraphRAG\n",
        "\n",
        "llm = llm\n",
        "\n",
        "rag_template = RagTemplate(template='''Answer the Question using the following Context. Only respond with information mentioned in the Context. Do not inject any speculative information not mentioned.\n",
        "\n",
        "# Question:\n",
        "{query_text}\n",
        "\n",
        "# Context:\n",
        "{context}\n",
        "\n",
        "# Answer:\n",
        "''', expected_inputs=['query_text', 'context'])\n",
        "\n",
        "v_rag  = GraphRAG(llm=llm, retriever=vector_retriever, prompt_template=rag_template)\n",
        "vc_rag = GraphRAG(llm=llm, retriever=vc_retriever, prompt_template=rag_template)"
      ],
      "metadata": {
        "id": "PXgMxE-cliqM"
      },
      "execution_count": null,
      "outputs": []
    },
    {
      "cell_type": "code",
      "source": [
        "q = \"List the main conytact must have clauses\"\n",
        "\n",
        "print(f\"Vector Response: n{v_rag.search(q, retriever_config={'top_k':5}).answer}\")\n",
        "print(\"n===========================n\")\n",
        "print(f\"Vector + Cypher Response: n{vc_rag.search(q, retriever_config={'top_k':5}).answer}\")"
      ],
      "metadata": {
        "id": "ZKmdd9ZsltR9"
      },
      "execution_count": null,
      "outputs": []
    },
    {
      "cell_type": "markdown",
      "source": [
        "**Vector Response:** nRisk is the probability of an event occurring and its consequences for project objectives. The majority of project actors perceive risk as a negative event. Different risks can occur in different phases of a project and may be inherited from one project phase to the next. In construction projects, sources of risk may be divided into three main categories: those related to external factors (such as financial, economic, political, legal, and environmental risks); those related to internal factors (such as design, construction, management, and relationships); and force majeure risks.\n",
        "\n",
        "n===========================n\n",
        "\n",
        "**Vector + Cypher Response:** nRisk is the probability of an event occurring and its consequences for project objectives. The majority of project actors perceive risk as a negative event. Risk can arise from external factors (such as financial, economic, political, legal, and environmental risks), internal factors (such as design, construction, management, and relationship risks), and force majeure risks. Different risks occur in different phases of a project, and risks may be carried from one phase to the next."
      ],
      "metadata": {
        "id": "hciLtKOVnR0s"
      }
    }
  ]
}